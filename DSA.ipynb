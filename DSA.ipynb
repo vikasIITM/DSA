{
  "nbformat": 4,
  "nbformat_minor": 0,
  "metadata": {
    "colab": {
      "provenance": []
    },
    "kernelspec": {
      "name": "python3",
      "display_name": "Python 3"
    },
    "language_info": {
      "name": "python"
    }
  },
  "cells": [
    {
      "cell_type": "markdown",
      "source": [
        "# **SORTING ALGORITHMS**"
      ],
      "metadata": {
        "id": "xzbmETWaW4ND"
      }
    },
    {
      "cell_type": "markdown",
      "source": [
        "# Insertion Sort "
      ],
      "metadata": {
        "id": "3PWhx64DVGu3"
      }
    },
    {
      "cell_type": "code",
      "source": [
        "def insertion_sort(arr):\n",
        "    for i in range(1, len(arr)):\n",
        "        key = arr[i]\n",
        "        j = i - 1\n",
        "        while j >= 0 and key < arr[j]:\n",
        "            arr[j + 1] = arr[j]\n",
        "            j -= 1\n",
        "        arr[j + 1] = key\n",
        "    return arr\n",
        "\n",
        "arr = [1, 3, -1, 2]\n",
        "sorted_arr = insertion_sort(arr)\n",
        "print(sorted_arr)\n"
      ],
      "metadata": {
        "colab": {
          "base_uri": "https://localhost:8080/"
        },
        "id": "1fT8t7kNVLny",
        "outputId": "8d7896fc-c2a4-4e7c-c7ec-3b780f89995f"
      },
      "execution_count": null,
      "outputs": [
        {
          "output_type": "stream",
          "name": "stdout",
          "text": [
            "[-1, 1, 2, 3]\n"
          ]
        }
      ]
    },
    {
      "cell_type": "markdown",
      "source": [
        "# Selection sort"
      ],
      "metadata": {
        "id": "gX7FgYnNXl9r"
      }
    },
    {
      "cell_type": "code",
      "source": [
        "def selection_sort(arr):\n",
        "    for i in range(len(arr)):\n",
        "        min_index = i\n",
        "        for j in range(i+1, len(arr)):\n",
        "            if arr[j] < arr[min_index]:\n",
        "                min_index = j\n",
        "        arr[i], arr[min_index] = arr[min_index], arr[i]\n",
        "    return arr\n",
        "\n",
        "arr = [1, 3, -1, 2]\n",
        "sorted_arr = selection_sort(arr)\n",
        "print(sorted_arr)\n"
      ],
      "metadata": {
        "colab": {
          "base_uri": "https://localhost:8080/"
        },
        "id": "crMNWsyaXptj",
        "outputId": "c6ab6d2c-6640-4375-9fc2-823e7a67db48"
      },
      "execution_count": null,
      "outputs": [
        {
          "output_type": "stream",
          "name": "stdout",
          "text": [
            "[-1, 1, 2, 3]\n"
          ]
        }
      ]
    },
    {
      "cell_type": "markdown",
      "source": [
        "# Bubble sort"
      ],
      "metadata": {
        "id": "s1Rtni1KWX0k"
      }
    },
    {
      "cell_type": "code",
      "source": [
        "def bubble_sort(arr):\n",
        "    n = len(arr)\n",
        "    for i in range(n):\n",
        "        for j in range(0, n - i - 1):\n",
        "            if arr[j] > arr[j + 1]:\n",
        "                arr[j], arr[j + 1] = arr[j + 1], arr[j]\n",
        "    return arr\n",
        "\n",
        "arr = [1, 3, -1, 2]\n",
        "sorted_arr = bubble_sort(arr)\n",
        "print(sorted_arr)\n"
      ],
      "metadata": {
        "colab": {
          "base_uri": "https://localhost:8080/"
        },
        "id": "-MGKJCfIWbGS",
        "outputId": "978ba075-0dcc-42aa-e934-86e19d828907"
      },
      "execution_count": null,
      "outputs": [
        {
          "output_type": "stream",
          "name": "stdout",
          "text": [
            "[-1, 1, 2, 3]\n"
          ]
        }
      ]
    },
    {
      "cell_type": "markdown",
      "source": [
        "# Merge Sort"
      ],
      "metadata": {
        "id": "RiNzLE68Up0C"
      }
    },
    {
      "cell_type": "code",
      "source": [
        "def merge_sort(arr):\n",
        "    if len(arr) <= 1:\n",
        "        return arr\n",
        "    mid = len(arr) // 2\n",
        "    left_half = merge_sort(arr[:mid])\n",
        "    right_half = merge_sort(arr[mid:])\n",
        "    return merge(left_half, right_half)\n",
        "\n",
        "def merge(left, right):\n",
        "    result = []\n",
        "    i = 0\n",
        "    j = 0\n",
        "    while i < len(left) and j < len(right):\n",
        "        if left[i] < right[j]:\n",
        "            result.append(left[i])\n",
        "            i += 1\n",
        "        else:\n",
        "            result.append(right[j])\n",
        "            j += 1\n",
        "    result += left[i:]\n",
        "    result += right[j:]\n",
        "    return result\n",
        "arr = [1, 3, -1, 2]\n",
        "sorted_arr = merge_sort(arr)\n",
        "print(sorted_arr)\n"
      ],
      "metadata": {
        "colab": {
          "base_uri": "https://localhost:8080/"
        },
        "id": "SRJrrNoyM5uW",
        "outputId": "3ee4862d-6468-4e51-f862-8c1cbeb809ba"
      },
      "execution_count": null,
      "outputs": [
        {
          "output_type": "stream",
          "name": "stdout",
          "text": [
            "[-1, 1, 2, 3]\n"
          ]
        }
      ]
    },
    {
      "cell_type": "markdown",
      "source": [
        "# Quick Sort"
      ],
      "metadata": {
        "id": "Y82B6eEJVyYN"
      }
    },
    {
      "cell_type": "code",
      "source": [
        "def partition(arr, low, high):\n",
        "    pivot = arr[high]\n",
        "    i = low - 1\n",
        "    for j in range(low, high):\n",
        "        if arr[j] <= pivot:\n",
        "            i += 1\n",
        "            arr[i], arr[j] = arr[j], arr[i]\n",
        "    arr[i + 1], arr[high] = arr[high], arr[i + 1]\n",
        "    return i + 1\n",
        "\n",
        "def quick_sort(arr, low, high):\n",
        "    if low < high:\n",
        "        pivot_index = partition(arr, low, high)\n",
        "        quick_sort(arr, low, pivot_index - 1)\n",
        "        quick_sort(arr, pivot_index + 1, high)\n",
        "\n",
        "arr = [1, 3, -1, 2]\n",
        "n = len(arr)\n",
        "quick_sort(arr, 0, n - 1)\n",
        "print(arr)\n"
      ],
      "metadata": {
        "colab": {
          "base_uri": "https://localhost:8080/"
        },
        "id": "gixdFupAV2A9",
        "outputId": "0c31a606-1260-4e31-902d-99d71a9ddc71"
      },
      "execution_count": null,
      "outputs": [
        {
          "output_type": "stream",
          "name": "stdout",
          "text": [
            "[-1, 1, 2, 3]\n"
          ]
        }
      ]
    },
    {
      "cell_type": "markdown",
      "source": [
        "# Matrix multiplication"
      ],
      "metadata": {
        "id": "MQcdFGF3NeSp"
      }
    },
    {
      "cell_type": "code",
      "source": [
        "def matrix_mult(A, B):\n",
        "    # Get the dimensions of the matrices\n",
        "    rows_A, cols_A = len(A), len(A[0])\n",
        "    rows_B, cols_B = len(B), len(B[0])\n",
        "  \n",
        "    # Initialize the result matrix with zeroes\n",
        "    result = [[0 for row in range(cols_B)] for col in range(rows_A)]\n",
        "  \n",
        "    # Iterate through rows of A\n",
        "    for i in range(rows_A):\n",
        "        # Iterate through columns of B\n",
        "        for j in range(cols_B):\n",
        "            # Iterate through rows of B\n",
        "            for k in range(cols_A):\n",
        "                result[i][j] += A[i][k] * B[k][j]\n",
        "    return result\n"
      ],
      "metadata": {
        "id": "ktG63ASzWRZk"
      },
      "execution_count": null,
      "outputs": []
    },
    {
      "cell_type": "code",
      "source": [
        "import numpy as np\n",
        "A = np.array([[1, 2], [3, 4]])\n",
        "B = np.array([[5, 6], [7, 8]])\n",
        "matrix_mult(A, B)"
      ],
      "metadata": {
        "colab": {
          "base_uri": "https://localhost:8080/"
        },
        "id": "7XR5vMhlNi5R",
        "outputId": "0ee4fb36-ceb1-48d9-8523-7b60309e3f65"
      },
      "execution_count": null,
      "outputs": [
        {
          "output_type": "execute_result",
          "data": {
            "text/plain": [
              "[[19, 22], [43, 50]]"
            ]
          },
          "metadata": {},
          "execution_count": 183
        }
      ]
    },
    {
      "cell_type": "markdown",
      "source": [
        "# Queue Using list(built in data structure in python)"
      ],
      "metadata": {
        "id": "ThaumgVgXlk4"
      }
    },
    {
      "cell_type": "code",
      "source": [
        "# Python program to\n",
        "# demonstrate queue implementation\n",
        "# using list\n",
        "\n",
        "# Initializing a queue\n",
        "queue = []\n",
        "\n",
        "# Adding elements to the queue\n",
        "queue.append('a')\n",
        "queue.append('b')\n",
        "queue.append('c')\n",
        "\n",
        "print(\"Initial queue\")\n",
        "print(queue)\n",
        "\n",
        "# Removing elements from the queue\n",
        "print(\"\\nElements dequeued from queue\")\n",
        "print(queue.pop(0))\n",
        "print(queue.pop(0))\n",
        "print(queue.pop(0))\n",
        "\n",
        "print(\"\\nQueue after removing elements\")\n",
        "print(queue)\n",
        "\n",
        "# Uncommenting print(queue.pop(0))\n",
        "# will raise and IndexError\n",
        "# as the queue is now empty\n"
      ],
      "metadata": {
        "colab": {
          "base_uri": "https://localhost:8080/"
        },
        "id": "A98pjsEIXpeT",
        "outputId": "a42896c1-1103-4f82-fa32-7715ea23e6a2"
      },
      "execution_count": null,
      "outputs": [
        {
          "output_type": "stream",
          "name": "stdout",
          "text": [
            "Initial queue\n",
            "['a', 'b', 'c']\n",
            "\n",
            "Elements dequeued from queue\n",
            "a\n",
            "b\n",
            "c\n",
            "\n",
            "Queue after removing elements\n",
            "[]\n"
          ]
        }
      ]
    },
    {
      "cell_type": "markdown",
      "source": [
        "# Stack using list"
      ],
      "metadata": {
        "id": "_Wm1aFuhYK-q"
      }
    },
    {
      "cell_type": "markdown",
      "source": [
        "# Stack "
      ],
      "metadata": {
        "id": "M_CPYX0jW0lo"
      }
    },
    {
      "cell_type": "code",
      "source": [
        "# Python program to\n",
        "# demonstrate stack implementation\n",
        "# using list\n",
        "\n",
        "stack = []\n",
        "\n",
        "# append() function to push\n",
        "# element in the stack\n",
        "stack.append('a')\n",
        "stack.append('b')\n",
        "stack.append('c')\n",
        "\n",
        "print('Initial stack')\n",
        "print(stack)\n",
        "\n",
        "# pop() function to pop\n",
        "# element from stack in\n",
        "# LIFO order\n",
        "print('\\nElements popped from stack:')\n",
        "print(stack.pop())\n",
        "print(stack.pop())\n",
        "print(stack.pop())\n",
        "\n",
        "print('\\nStack after elements are popped:')\n",
        "print(stack)\n",
        "\n",
        "# uncommenting print(stack.pop())\n",
        "# will cause an IndexError\n",
        "# as the stack is now empty\n"
      ],
      "metadata": {
        "colab": {
          "base_uri": "https://localhost:8080/"
        },
        "id": "sCiUHwG-aQrP",
        "outputId": "7664b13f-7242-4e51-8363-4ff60ca32526"
      },
      "execution_count": null,
      "outputs": [
        {
          "output_type": "stream",
          "name": "stdout",
          "text": [
            "Initial stack\n",
            "['a', 'b', 'c']\n",
            "\n",
            "Elements popped from stack:\n",
            "c\n",
            "b\n",
            "a\n",
            "\n",
            "Stack after elements are popped:\n",
            "[]\n"
          ]
        }
      ]
    },
    {
      "cell_type": "markdown",
      "source": [
        "# Stack implementation from scratch"
      ],
      "metadata": {
        "id": "41-2H6S2aiMT"
      }
    },
    {
      "cell_type": "code",
      "source": [
        "class Stack:\n",
        "    def __init__(self):\n",
        "        self.stackList=[]\n",
        "        self.stackSize=0\n",
        "    def push(self,item):\n",
        "        self.stackList.append(item)\n",
        "        self.stackSize+=1\n",
        "    def pop(self):\n",
        "        try:\n",
        "            if self.stackSize==0:\n",
        "                raise Exception(\"Stack is Empty, returning None\")\n",
        "            temp=self.stackList.pop()\n",
        "            self.stackSize-=1\n",
        "            return temp\n",
        "        except Exception as e:\n",
        "            print(str(e))\n",
        "    def size(self):\n",
        "        return self.stackSize\n",
        "    def isEmpty(self):\n",
        "        if self.stackSize==0:\n",
        "            return True\n",
        "        else:\n",
        "            return False\n",
        "    def top(self):\n",
        "        try:\n",
        "            if self.stackSize==0:\n",
        "                raise Exception(\"Stack is Empty, returning None\")\n",
        "            return self.stackList[-1]\n",
        "        except Exception as e:\n",
        "            print(str(e))\n",
        "            \n",
        "#Execution\n",
        "s=Stack()\n",
        "#push element\n",
        "s.push(1)\n",
        "#push element\n",
        "s.push(2)\n",
        "#push element\n",
        "s.push(3)\n",
        "print(\"popped element is:\")\n",
        "print(s.pop())\n",
        "#push an element\n",
        "s.push(4)\n",
        "print(\"topmost element is:\")\n",
        "print(s.top())"
      ],
      "metadata": {
        "colab": {
          "base_uri": "https://localhost:8080/"
        },
        "id": "d7fOq_LTW4QL",
        "outputId": "2a1c67d0-583f-4437-e93a-07add74d3cd0"
      },
      "execution_count": null,
      "outputs": [
        {
          "output_type": "stream",
          "name": "stdout",
          "text": [
            "popped element is:\n",
            "3\n",
            "topmost element is:\n",
            "4\n"
          ]
        }
      ]
    },
    {
      "cell_type": "markdown",
      "source": [
        "# Linked list"
      ],
      "metadata": {
        "id": "MbJYfg37BW9B"
      }
    },
    {
      "cell_type": "code",
      "source": [
        "# Initiaiization of node\n",
        "class Node:\n",
        "    def __init__(self,data):\n",
        "        self.data=data\n",
        "        self.next=None\n",
        "\n",
        "\n",
        "# Creating empty linked list\n",
        "class linkedList:\n",
        "    def __init__(self):\n",
        "        self.head=None\n",
        "\n",
        "    # Insertion operation in linked list\n",
        "\n",
        "    def insertAtBeginning(self,data):\n",
        "            temp=Node(data)\n",
        "            if self.head==None:\n",
        "                self.head=temp\n",
        "            else:\n",
        "                temp.next=self.head\n",
        "                self.head=temp\n",
        "\n",
        "    def insertAtEnd(self,data):\n",
        "            temp=Node(data)\n",
        "            if self.head==None:\n",
        "                self.head=temp\n",
        "            else:\n",
        "                curr=self.head\n",
        "                while curr.next!=None:\n",
        "                    curr=curr.next\n",
        "                curr.next=temp\n",
        "\n",
        "    def insertAtGivenPosition(self,data,position):\n",
        "            count=1\n",
        "            curr=self.head\n",
        "            while count<position-1 and curr!=None:\n",
        "                curr=curr.next\n",
        "                count+=1\n",
        "            temp=Node(data)\n",
        "            temp.next=curr.next\n",
        "            curr.next=temp\n",
        "\n",
        "    # Traversal of Linked list\n",
        "\n",
        "    def traverse(self):\n",
        "            curr=self.head\n",
        "            while curr!=None:\n",
        "                print(curr.data)\n",
        "                curr=curr.next\n",
        "\n",
        "    # Deletion operation in Linked list\n",
        "\n",
        "    def delFromBeginning(self):\n",
        "            try:\n",
        "                if self.head==None:\n",
        "                    raise Exception(\"Empty Linked List\")\n",
        "                else:\n",
        "                    temp=self.head\n",
        "                    self.head=self.head.next\n",
        "                    del temp\n",
        "            except Exception as e:\n",
        "                print(str(e))\n",
        "\n",
        "    def delFromEnd(self):\n",
        "            try:\n",
        "                if self.head==None:\n",
        "                    raise Exception(\"Empty Linked List\")\n",
        "                else:\n",
        "                    curr=self.head\n",
        "                    prev=None\n",
        "                    while curr.next!=None:\n",
        "                        prev=curr\n",
        "                        curr=curr.next\n",
        "                    prev.next=curr.next\n",
        "                    del curr\n",
        "            except Exception as e:\n",
        "                print(str(e))\n",
        "\n",
        "    def delAtPos(self,position):\n",
        "            try:\n",
        "                if self.head==None:\n",
        "                    raise Exception(\"Empty Linked List\")\n",
        "                else:\n",
        "                    curr=self.head\n",
        "                    prev=None\n",
        "                    count=1\n",
        "                    while curr!=None and count<position:\n",
        "                        prev=curr\n",
        "                        curr=curr.next\n",
        "                        count+=1\n",
        "                    prev.next=curr.next\n",
        "                    del curr\n",
        "            except Exception as e:\n",
        "                print(str(e))\n",
        "\n"
      ],
      "metadata": {
        "id": "9m1lINAPBZ9S"
      },
      "execution_count": null,
      "outputs": []
    },
    {
      "cell_type": "code",
      "source": [
        "node=Node(10)\n",
        "print(node.data)"
      ],
      "metadata": {
        "colab": {
          "base_uri": "https://localhost:8080/"
        },
        "id": "lpogn8j7ODCo",
        "outputId": "ed272555-60be-4d79-8047-3968b9422160"
      },
      "execution_count": null,
      "outputs": [
        {
          "output_type": "stream",
          "name": "stdout",
          "text": [
            "10\n"
          ]
        }
      ]
    },
    {
      "cell_type": "code",
      "source": [
        "a=linkedList()\n",
        "print(a)\n",
        "a.insertAtBeginning(19)\n",
        "a.insertAtBeginning(-9)\n",
        "a.insertAtBeginning(0)\n",
        "a.insertAtBeginning(11)\n",
        "\n",
        "a.traverse()"
      ],
      "metadata": {
        "colab": {
          "base_uri": "https://localhost:8080/"
        },
        "id": "Vqi26DinOGqo",
        "outputId": "00ac3a07-8f9d-4ca6-94d4-b342507519cb"
      },
      "execution_count": null,
      "outputs": [
        {
          "output_type": "stream",
          "name": "stdout",
          "text": [
            "<__main__.linkedList object at 0x7f60582673a0>\n",
            "11\n",
            "0\n",
            "-9\n",
            "19\n"
          ]
        }
      ]
    },
    {
      "cell_type": "code",
      "source": [
        "a.insertAtGivenPosition(6474,2)\n",
        "a.traverse()"
      ],
      "metadata": {
        "colab": {
          "base_uri": "https://localhost:8080/"
        },
        "id": "FHcml-OTOS3w",
        "outputId": "6d0a1a2a-aace-436f-ce8f-9bec8a4fd890"
      },
      "execution_count": null,
      "outputs": [
        {
          "output_type": "stream",
          "name": "stdout",
          "text": [
            "11\n",
            "6474\n",
            "0\n",
            "-9\n",
            "19\n"
          ]
        }
      ]
    },
    {
      "cell_type": "code",
      "source": [
        "a.delFromEnd()\n",
        "a.traverse()"
      ],
      "metadata": {
        "colab": {
          "base_uri": "https://localhost:8080/"
        },
        "id": "gMgVE20uOb7e",
        "outputId": "574673de-d44e-4dd7-d92d-596ec966bb7d"
      },
      "execution_count": null,
      "outputs": [
        {
          "output_type": "stream",
          "name": "stdout",
          "text": [
            "11\n",
            "6474\n",
            "0\n",
            "-9\n"
          ]
        }
      ]
    },
    {
      "cell_type": "code",
      "source": [
        "a.delAtPos(3)\n",
        "a.traverse()"
      ],
      "metadata": {
        "colab": {
          "base_uri": "https://localhost:8080/"
        },
        "id": "mrewpn4WOzRa",
        "outputId": "8b684ea5-c422-4b6a-d158-b44d5fdc8860"
      },
      "execution_count": null,
      "outputs": [
        {
          "output_type": "stream",
          "name": "stdout",
          "text": [
            "11\n",
            "6474\n",
            "-9\n"
          ]
        }
      ]
    },
    {
      "cell_type": "markdown",
      "source": [
        "# Initialization of BST"
      ],
      "metadata": {
        "id": "w2KADyq-sWZl"
      }
    },
    {
      "cell_type": "code",
      "source": [
        "class BST:\n",
        "  def __init__(self,key):\n",
        "    self.key = key\n",
        "    self.lchild =None\n",
        "    self.rchild=None\n",
        "\n",
        "root=BST(20)\n",
        "\n",
        "print(root.lchild)\n",
        "print(root.key)\n",
        "print(root.rchild)"
      ],
      "metadata": {
        "id": "14GP0m4HOkBW",
        "colab": {
          "base_uri": "https://localhost:8080/"
        },
        "outputId": "98399dbe-b175-4b36-c4d8-c47042ab519b"
      },
      "execution_count": null,
      "outputs": [
        {
          "output_type": "stream",
          "name": "stdout",
          "text": [
            "None\n",
            "20\n",
            "None\n"
          ]
        }
      ]
    },
    {
      "cell_type": "markdown",
      "source": [
        "# Insersion and Searching of a element in BST"
      ],
      "metadata": {
        "id": "u6Tg-0Qxsewg"
      }
    },
    {
      "cell_type": "code",
      "source": [
        "class BST:\n",
        "    def __init__(self, data):\n",
        "        self.data = data\n",
        "        self.leftChild = None\n",
        "        self.rightChild = None\n",
        "\n",
        "\"\"\" Insertion of new element  \"\"\"\n",
        "\n",
        "def insert(root, newValue):\n",
        "    # if binary search tree is empty, create a new node and declare it as root\n",
        "    if root is None:\n",
        "        root = BST(newValue)\n",
        "        return root\n",
        "    # if newValue is less than value of data in root, add it to left subtree and proceed recursively\n",
        "    if newValue < root.data:\n",
        "        root.leftChild = insert(root.leftChild, newValue)\n",
        "    else:\n",
        "        # if newValue is greater than value of data in root, add it to right subtree and proceed recursively\n",
        "        root.rightChild = insert(root.rightChild, newValue)\n",
        "    return root\n",
        "\n",
        "\n",
        "\"\"\" Searching  of given element  \"\"\"\n",
        "\n",
        "\n",
        "def search(root, value):\n",
        "    # node is empty\n",
        "    if root is None:\n",
        "        return False\n",
        "    # if element is equal to the element to be searched\n",
        "    elif root.data == value:\n",
        "        return True\n",
        "    # element to be searched is less than the current node\n",
        "    elif root.data > value:\n",
        "        return search(root.leftChild, value)\n",
        "    # element to be searched is greater than the current node\n",
        "    else:\n",
        "        return search(root.rightChild, value)\n",
        "\n",
        "\n",
        "root = insert(None, 50)\n",
        "insert(root, 20)\n",
        "insert(root, 53)\n",
        "insert(root, 11)\n",
        "insert(root, 22)\n",
        "insert(root, 52)\n",
        "insert(root, 78)\n",
        "print(\"53 is present in the binary tree:\", search(root, 53))\n",
        "print(\"100 is present in the binary tree:\", search(root, 100))\n"
      ],
      "metadata": {
        "colab": {
          "base_uri": "https://localhost:8080/"
        },
        "id": "DoHXClEXsc5i",
        "outputId": "accd66eb-3f36-42c2-da7b-160f775ad89f"
      },
      "execution_count": null,
      "outputs": [
        {
          "output_type": "stream",
          "name": "stdout",
          "text": [
            "53 is present in the binary tree: True\n",
            "100 is present in the binary tree: False\n"
          ]
        }
      ]
    },
    {
      "cell_type": "code",
      "source": [
        "node1 = root\n",
        "node2 = node1.leftChild\n",
        "node3 = node1.rightChild\n",
        "node4 = node2.leftChild\n",
        "node5 = node2.rightChild\n",
        "node6 = node3.leftChild\n",
        "node7 = node3.rightChild\n",
        "print(\"Root Node is:\")\n",
        "print(node1.data)\n",
        "print(\"left child of the node is:\")\n",
        "print(node1.leftChild.data)\n",
        "\n",
        "print(\"right child of the node is:\")\n",
        "print(node1.rightChild.data)\n",
        "\n",
        "print(\"Node is:\")\n",
        "print(node2.data)"
      ],
      "metadata": {
        "colab": {
          "base_uri": "https://localhost:8080/"
        },
        "id": "EGj77ReLxqmn",
        "outputId": "6d7c6f2a-f729-4b39-9137-9da3c04e53ab"
      },
      "execution_count": null,
      "outputs": [
        {
          "output_type": "stream",
          "name": "stdout",
          "text": [
            "Root Node is:\n",
            "50\n",
            "left child of the node is:\n",
            "20\n",
            "right child of the node is:\n",
            "53\n",
            "Node is:\n",
            "20\n"
          ]
        }
      ]
    },
    {
      "cell_type": "markdown",
      "source": [
        "# Traversel of BST "
      ],
      "metadata": {
        "id": "gXSijznm1TRL"
      }
    },
    {
      "cell_type": "code",
      "source": [
        "class BinaryTreeNode:\n",
        "    def __init__(self, data):\n",
        "        self.data = data\n",
        "        self.leftChild = None\n",
        "        self.rightChild = None\n",
        "\n",
        "\n",
        "def inorder(root):\n",
        "    # if root is None,return\n",
        "    if root == None:\n",
        "        return\n",
        "    # traverse left subtree\n",
        "    inorder(root.leftChild)\n",
        "    # print the current node\n",
        "    print(root.data, end=\" ,\")\n",
        "    # traverse right subtree\n",
        "    inorder(root.rightChild)\n",
        "\n",
        "def preorder(root):\n",
        "    # if root is None,return\n",
        "    if root is None:\n",
        "        return\n",
        "    # print the current node\n",
        "    print(root.data, end=\" ,\")\n",
        "    # traverse left subtree\n",
        "    preorder(root.leftChild)\n",
        "\n",
        "    # traverse right subtree\n",
        "    preorder(root.rightChild)\n",
        "\n",
        "\n",
        "def postorder(root):\n",
        "    # if root is None,return\n",
        "    if root is None:\n",
        "        return\n",
        "    # traverse left subtree\n",
        "    preorder(root.leftChild)\n",
        "\n",
        "    # traverse right subtree\n",
        "    preorder(root.rightChild)\n",
        "\n",
        "    # print the current node\n",
        "    print(root.data, end=\" ,\")\n",
        "\n",
        "\n",
        "\n",
        "def insert(root, newValue):\n",
        "    # if binary search tree is empty, create a new node and declare it as root\n",
        "    if root is None:\n",
        "        root = BinaryTreeNode(newValue)\n",
        "        return root\n",
        "    # if newValue is less than value of data in root, add it to left subtree and proceed recursively\n",
        "    if newValue < root.data:\n",
        "        root.leftChild = insert(root.leftChild, newValue)\n",
        "    else:\n",
        "        # if newValue is greater than value of data in root, add it to right subtree and proceed recursively\n",
        "        root.rightChild = insert(root.rightChild, newValue)\n",
        "    return root\n",
        "\n",
        "\n",
        "root = insert(None, 50)\n",
        "insert(root, 20)\n",
        "insert(root, 53)\n",
        "insert(root, 11)\n",
        "insert(root, 22)\n",
        "insert(root, 52)\n",
        "insert(root, 78)\n",
        "print(\"Inorder traversal of the binary tree is:\")\n",
        "inorder(root)\n",
        "print(\"\\nPreorder traversal of the binary tree is:\")\n",
        "preorder(root)\n",
        "print(\"\\npostorder traversal of the binary tree is:\")\n",
        "postorder(root)"
      ],
      "metadata": {
        "colab": {
          "base_uri": "https://localhost:8080/"
        },
        "id": "5tGi1dHoyGY2",
        "outputId": "fd63bf29-7fba-4726-e54a-908d791b4939"
      },
      "execution_count": null,
      "outputs": [
        {
          "output_type": "stream",
          "name": "stdout",
          "text": [
            "Inorder traversal of the binary tree is:\n",
            "11 ,20 ,22 ,50 ,52 ,53 ,78 ,\n",
            "Preorder traversal of the binary tree is:\n",
            "50 ,20 ,11 ,22 ,53 ,52 ,78 ,\n",
            "postorder traversal of the binary tree is:\n",
            "20 ,11 ,22 ,53 ,52 ,78 ,50 ,"
          ]
        }
      ]
    },
    {
      "cell_type": "markdown",
      "source": [
        "#Deletion of given element in BST "
      ],
      "metadata": {
        "id": "rMuiNo1a6Zit"
      }
    },
    {
      "cell_type": "markdown",
      "source": [
        "**Define the class and initialize the nodes**"
      ],
      "metadata": {
        "id": "0WIAbbykMqZN"
      }
    },
    {
      "cell_type": "code",
      "source": [
        "class avl_Node(object):\n",
        "\tdef __init__(self, value):\n",
        "\t\tself.value = value\n",
        "\t\tself.leaf = None\n",
        "\t\tself.root = None\n",
        "\t\tself.height = 1"
      ],
      "metadata": {
        "id": "_D-vL-lf6fn9"
      },
      "execution_count": null,
      "outputs": []
    },
    {
      "cell_type": "markdown",
      "source": [
        "**Define a function to calculate height and Balance Factor.**"
      ],
      "metadata": {
        "id": "wHBx4Ji6MtVK"
      }
    },
    {
      "cell_type": "code",
      "source": [
        "def avl_Height(self, root):\n",
        "        if not root:\n",
        "            return 0\n",
        "        return root.height\n",
        " \n",
        "def avl_BalanceFactor(self, root):\n",
        "      #base case for leaf nodes\n",
        "       if not root:\n",
        "            return 0\n",
        " \n",
        "      #implementing the above mentioned formula\n",
        "       return self.avl_Height(root.l) - self.avl_Height(root.r)"
      ],
      "metadata": {
        "id": "a5x4v5KSMfsk"
      },
      "execution_count": null,
      "outputs": []
    }
  ]
}